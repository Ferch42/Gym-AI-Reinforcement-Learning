{
 "cells": [
  {
   "cell_type": "code",
   "execution_count": 1,
   "metadata": {
    "collapsed": true
   },
   "outputs": [],
   "source": [
    "import tensorflow as tf"
   ]
  },
  {
   "cell_type": "code",
   "execution_count": 2,
   "metadata": {
    "collapsed": true
   },
   "outputs": [],
   "source": [
    "sess = tf.Session()"
   ]
  },
  {
   "cell_type": "code",
   "execution_count": 3,
   "metadata": {},
   "outputs": [
    {
     "data": {
      "text/plain": [
       "True"
      ]
     },
     "execution_count": 3,
     "metadata": {},
     "output_type": "execute_result"
    }
   ],
   "source": [
    "tf.test.is_gpu_available()"
   ]
  },
  {
   "cell_type": "code",
   "execution_count": 4,
   "metadata": {
    "collapsed": true
   },
   "outputs": [],
   "source": [
    "import tensorflow as tf\n",
    "sess = tf.Session(config=tf.ConfigProto(log_device_placement=True))"
   ]
  },
  {
   "cell_type": "code",
   "execution_count": 6,
   "metadata": {},
   "outputs": [
    {
     "data": {
      "text/plain": [
       "1"
      ]
     },
     "execution_count": 6,
     "metadata": {},
     "output_type": "execute_result"
    }
   ],
   "source": [
    "sess.run(tf.constant(1))"
   ]
  },
  {
   "cell_type": "code",
   "execution_count": 4,
   "metadata": {},
   "outputs": [
    {
     "name": "stdout",
     "output_type": "stream",
     "text": [
      "[name: \"/cpu:0\"\n",
      "device_type: \"CPU\"\n",
      "memory_limit: 268435456\n",
      "locality {\n",
      "}\n",
      "incarnation: 1576176139996347097\n",
      ", name: \"/gpu:0\"\n",
      "device_type: \"GPU\"\n",
      "memory_limit: 104831385\n",
      "locality {\n",
      "  bus_id: 1\n",
      "}\n",
      "incarnation: 11509901856908455473\n",
      "physical_device_desc: \"device: 0, name: GeForce GTX 1060 6GB, pci bus id: 0000:01:00.0\"\n",
      "]\n"
     ]
    }
   ],
   "source": [
    "from tensorflow.python.client import device_lib\n",
    "print(device_lib.list_local_devices())"
   ]
  },
  {
   "cell_type": "code",
   "execution_count": 5,
   "metadata": {
    "collapsed": true
   },
   "outputs": [],
   "source": [
    "from tensorflow.python.client import device_lib\n",
    "\n",
    "def get_available_gpus():\n",
    "    local_device_protos = device_lib.list_local_devices()\n",
    "    return [x.name for x in local_device_protos if x.device_type == 'GPU']"
   ]
  },
  {
   "cell_type": "code",
   "execution_count": 6,
   "metadata": {},
   "outputs": [
    {
     "data": {
      "text/plain": [
       "['/gpu:0']"
      ]
     },
     "execution_count": 6,
     "metadata": {},
     "output_type": "execute_result"
    }
   ],
   "source": [
    "get_available_gpus()"
   ]
  },
  {
   "cell_type": "code",
   "execution_count": 221,
   "metadata": {
    "collapsed": true
   },
   "outputs": [],
   "source": [
    "a = tf.Variable(1, dtype = tf.float32)\n",
    "b = tf.add(a,1)"
   ]
  },
  {
   "cell_type": "code",
   "execution_count": 58,
   "metadata": {},
   "outputs": [
    {
     "data": {
      "text/plain": [
       "<tf.Tensor 'Assign_19:0' shape=() dtype=float32_ref>"
      ]
     },
     "execution_count": 58,
     "metadata": {},
     "output_type": "execute_result"
    }
   ],
   "source": [
    "b = tf.placeholder(tf.float32)\n",
    "a.assign(a+a)"
   ]
  },
  {
   "cell_type": "code",
   "execution_count": 222,
   "metadata": {
    "collapsed": true
   },
   "outputs": [],
   "source": [
    "sess.run(tf.global_variables_initializer())"
   ]
  },
  {
   "cell_type": "code",
   "execution_count": 225,
   "metadata": {},
   "outputs": [
    {
     "data": {
      "text/plain": [
       "3.0"
      ]
     },
     "execution_count": 225,
     "metadata": {},
     "output_type": "execute_result"
    }
   ],
   "source": [
    "sess.run(tf.multiply(a,3))"
   ]
  },
  {
   "cell_type": "code",
   "execution_count": 73,
   "metadata": {},
   "outputs": [
    {
     "data": {
      "text/plain": [
       "1.0"
      ]
     },
     "execution_count": 73,
     "metadata": {},
     "output_type": "execute_result"
    }
   ],
   "source": [
    "a.eval(session = sess)"
   ]
  },
  {
   "cell_type": "code",
   "execution_count": 226,
   "metadata": {},
   "outputs": [
    {
     "name": "stderr",
     "output_type": "stream",
     "text": [
      "Using TensorFlow backend.\n"
     ]
    }
   ],
   "source": [
    "import gym\n",
    "from keras.models import Sequential\n",
    "from keras.layers import Dense, Dropout\n",
    "from keras.optimizers import Adam\n",
    "#from keras.constraints import MaxNorm\n",
    "import numpy as np\n",
    "import tensorflow as tf\n",
    "import gc\n",
    "import pickle\n",
    "from keras.models import load_model\n",
    "from time import time"
   ]
  },
  {
   "cell_type": "code",
   "execution_count": 228,
   "metadata": {},
   "outputs": [
    {
     "name": "stdout",
     "output_type": "stream",
     "text": [
      "Policy Mean network\n",
      "_________________________________________________________________\n",
      "Layer (type)                 Output Shape              Param #   \n",
      "=================================================================\n",
      "dense_1 (Dense)              (None, 1, 100)            300       \n",
      "_________________________________________________________________\n",
      "dropout_1 (Dropout)          (None, 1, 100)            0         \n",
      "_________________________________________________________________\n",
      "dense_2 (Dense)              (None, 1, 100)            10100     \n",
      "_________________________________________________________________\n",
      "dropout_2 (Dropout)          (None, 1, 100)            0         \n",
      "_________________________________________________________________\n",
      "dense_3 (Dense)              (None, 1, 100)            10100     \n",
      "_________________________________________________________________\n",
      "dropout_3 (Dropout)          (None, 1, 100)            0         \n",
      "_________________________________________________________________\n",
      "dense_4 (Dense)              (None, 1, 100)            10100     \n",
      "_________________________________________________________________\n",
      "dropout_4 (Dropout)          (None, 1, 100)            0         \n",
      "_________________________________________________________________\n",
      "dense_5 (Dense)              (None, 1, 100)            10100     \n",
      "_________________________________________________________________\n",
      "dropout_5 (Dropout)          (None, 1, 100)            0         \n",
      "_________________________________________________________________\n",
      "dense_6 (Dense)              (None, 1, 2)              202       \n",
      "=================================================================\n",
      "Total params: 40,902\n",
      "Trainable params: 40,902\n",
      "Non-trainable params: 0\n",
      "_________________________________________________________________\n",
      "None\n"
     ]
    }
   ],
   "source": [
    "policy_model_mean = Sequential()\n",
    "policy_model_mean.add(Dense(100,input_shape =(1,2) ,kernel_initializer='random_uniform', activation = 'relu' ))\n",
    "policy_model_mean.add(Dropout(0.5))\n",
    "policy_model_mean.add(Dense(100,kernel_initializer='random_uniform', activation = 'relu'))\n",
    "policy_model_mean.add(Dropout(0.5))\n",
    "policy_model_mean.add(Dense(100,kernel_initializer='random_uniform', activation = 'relu'))\n",
    "policy_model_mean.add(Dropout(0.5))\n",
    "policy_model_mean.add(Dense(100,kernel_initializer='random_uniform', activation = 'relu'))\n",
    "policy_model_mean.add(Dropout(0.5))\n",
    "policy_model_mean.add(Dense(100,kernel_initializer='random_uniform', activation = 'relu'))\n",
    "policy_model_mean.add(Dropout(0.5))\n",
    "policy_model_mean.add(Dense( 2,kernel_initializer='random_uniform', activation='linear' ))\n",
    "\n",
    "adam = Adam(lr=0.001, beta_1=0.9, beta_2=0.999, epsilon=None, decay=0.0, amsgrad=False)\n",
    "policy_model_mean.compile(loss=\"mse\", optimizer= adam)\n",
    "print(\"Policy Mean network\")\n",
    "print(policy_model_mean.summary())"
   ]
  },
  {
   "cell_type": "code",
   "execution_count": 229,
   "metadata": {
    "collapsed": true
   },
   "outputs": [],
   "source": [
    "def set_weights(model, weights):  \n",
    "    if(model=='value'):\n",
    "        i=0\n",
    "        for layer in value_model.layers:\n",
    "            if 'dropout' not in layer.name:\n",
    "                layer.set_weights([weights[i],weights[i+1]])\n",
    "                i+=2\n",
    "    elif(model=='policy_mean'):\n",
    "        i=0\n",
    "        for layerz in policy_model_mean.layers:\n",
    "            if 'dropout' not in layerz.name:\n",
    "                layerz.set_weights([weights[i],weights[i+1]])\n",
    "                i+=2\n",
    "                \n",
    "    elif(model=='policy_std'):\n",
    "        i=0\n",
    "        for layerz in policy_model_std.layers:\n",
    "            if 'dropout' not in layerz.name:\n",
    "                layerz.set_weights([weights[i],weights[i+1]])\n",
    "                i+=2\n",
    "    else:\n",
    "        print('error')\n",
    "\n",
    "def get_value_weights():\n",
    "    weights =[]\n",
    "    for w in value_model.layers:\n",
    "        weights+= w.weights\n",
    "    return weights\n",
    "\n",
    "def get_policy_weights_mean():\n",
    "    weights =[]\n",
    "    for w in policy_model_mean.layers:\n",
    "        weights+= w.weights\n",
    "    return weights\n",
    "\n",
    "def get_policy_weights_std():\n",
    "    weights =[]\n",
    "    for w in policy_model_std.layers:\n",
    "        weights+= w.weights\n",
    "    return weights\n"
   ]
  },
  {
   "cell_type": "code",
   "execution_count": 232,
   "metadata": {
    "collapsed": true
   },
   "outputs": [],
   "source": [
    "a =get_policy_weights_mean()"
   ]
  },
  {
   "cell_type": "code",
   "execution_count": 233,
   "metadata": {
    "collapsed": true
   },
   "outputs": [],
   "source": [
    "sess.run(tf.global_variables_initializer())"
   ]
  },
  {
   "cell_type": "code",
   "execution_count": 234,
   "metadata": {},
   "outputs": [
    {
     "data": {
      "text/plain": [
       "array([[  4.06114571e-02,  -2.75350697e-02,   2.90420093e-02,\n",
       "         -8.22212547e-03,  -4.05285582e-02,  -2.86595710e-02,\n",
       "         -4.08780947e-02,  -4.68562618e-02,   4.97548319e-02,\n",
       "          1.59048922e-02,   4.95816395e-03,  -2.14918982e-02,\n",
       "          3.81514318e-02,   2.64419243e-03,  -4.45465110e-02,\n",
       "         -7.68572092e-03,   2.45478265e-02,   2.92639174e-02,\n",
       "          2.64492147e-02,  -2.28152405e-02,   2.11475156e-02,\n",
       "          9.70683992e-04,  -2.01600548e-02,  -3.75226252e-02,\n",
       "          9.38982889e-03,   2.33183838e-02,   3.62570025e-02,\n",
       "          4.14830483e-02,  -3.64150889e-02,  -2.96419263e-02,\n",
       "         -6.23989105e-03,   3.82587314e-06,   3.54946293e-02,\n",
       "          1.30678676e-02,  -4.04610746e-02,   7.54214451e-03,\n",
       "         -6.75766543e-03,   2.39876658e-03,  -2.12969538e-02,\n",
       "         -4.60640565e-02,  -4.97313626e-02,   1.52298696e-02,\n",
       "          4.08340618e-03,  -4.07279842e-02,   4.00523655e-02,\n",
       "          4.22074646e-03,   3.02755497e-02,   2.49557979e-02,\n",
       "          3.86277921e-02,  -5.11097908e-03,   9.92112234e-03,\n",
       "         -2.14613210e-02,   2.58936323e-02,   1.15385763e-02,\n",
       "          1.81722306e-02,   1.68631338e-02,  -1.03103034e-02,\n",
       "          2.07788981e-02,  -3.68842855e-02,   4.21349071e-02,\n",
       "         -1.59373768e-02,  -4.15299907e-02,   1.91692449e-02,\n",
       "          4.50812094e-02,   1.96152441e-02,  -4.32913303e-02,\n",
       "         -1.79956555e-02,  -2.34344248e-02,   1.89774372e-02,\n",
       "         -1.07367411e-02,  -2.68493183e-02,  -1.00093484e-02,\n",
       "          1.45382769e-02,  -2.56430991e-02,  -3.00678499e-02,\n",
       "         -3.80009040e-02,   3.69285829e-02,   2.51489989e-02,\n",
       "         -4.38141823e-03,   2.14765556e-02,   1.56213529e-02,\n",
       "          3.54056992e-02,   1.51312836e-02,  -2.58238446e-02,\n",
       "          3.40061523e-02,  -9.92967933e-03,   3.43883671e-02,\n",
       "          4.02889736e-02,   9.91004705e-03,  -9.20637697e-03,\n",
       "         -1.48913041e-02,  -5.74914366e-03,   2.21429728e-02,\n",
       "          2.16533430e-02,   2.61620767e-02,  -3.19914594e-02,\n",
       "          7.54036754e-03,   1.65726282e-02,  -5.82645088e-03,\n",
       "          2.72127502e-02],\n",
       "       [  1.63420923e-02,   7.30258226e-03,   4.09595408e-02,\n",
       "         -4.13835049e-03,  -4.49425355e-02,  -1.63797513e-02,\n",
       "          4.82873581e-02,   3.97797674e-03,   3.49355079e-02,\n",
       "         -2.50205994e-02,  -4.11795750e-02,  -3.23593616e-04,\n",
       "         -3.86276953e-02,   2.37012170e-02,   2.06157826e-02,\n",
       "          2.63716616e-02,   2.04875357e-02,  -2.11190712e-02,\n",
       "         -1.42322294e-02,   1.05586164e-02,   3.62697281e-02,\n",
       "         -3.41046676e-02,  -2.59210598e-02,   9.09516960e-03,\n",
       "          3.51791494e-02,  -2.16864347e-02,   4.99570630e-02,\n",
       "          2.86211260e-02,   3.40789668e-02,   4.50250618e-02,\n",
       "          2.70643272e-02,   8.32168013e-03,  -1.50954239e-02,\n",
       "          4.71451916e-02,  -1.97452791e-02,  -7.18022510e-03,\n",
       "          3.50429304e-02,   3.67074646e-02,   4.23263200e-02,\n",
       "         -1.12154335e-03,   4.79886867e-02,   1.65809132e-02,\n",
       "         -7.28478283e-03,  -2.17942242e-02,  -2.66582016e-02,\n",
       "         -7.74214417e-03,  -6.60819933e-03,   1.37330405e-02,\n",
       "         -4.10063192e-03,  -3.68339643e-02,  -2.78044827e-02,\n",
       "         -4.06420231e-03,  -3.75282019e-04,   1.99481584e-02,\n",
       "         -2.50637662e-02,   2.34106891e-02,   3.48596461e-02,\n",
       "         -1.18703470e-02,   1.00777261e-02,   2.79896297e-02,\n",
       "         -4.88258898e-04,  -3.99583690e-02,  -2.30052713e-02,\n",
       "          3.49439681e-04,   2.31564380e-02,   9.18140262e-03,\n",
       "          3.06510925e-03,  -2.32498404e-02,   9.62360948e-03,\n",
       "          9.35173035e-03,   1.90417059e-02,  -3.66465673e-02,\n",
       "         -3.17455418e-02,  -2.81087998e-02,   9.54576582e-03,\n",
       "         -4.82374430e-03,  -2.65605692e-02,   2.07815208e-02,\n",
       "         -4.83087189e-02,  -1.04896203e-02,   1.35743953e-02,\n",
       "          3.13432850e-02,   4.42761295e-02,   2.90952623e-04,\n",
       "         -2.71103140e-02,  -1.19759664e-02,  -8.46920162e-03,\n",
       "          4.91907038e-02,  -4.66271639e-02,   4.22780402e-02,\n",
       "         -4.87494580e-02,   2.25701965e-02,  -4.43333872e-02,\n",
       "          5.72394207e-03,   1.05738044e-02,   4.91276421e-02,\n",
       "          5.51228598e-03,   2.26108544e-02,  -1.57243609e-02,\n",
       "         -4.51245569e-02]], dtype=float32)"
      ]
     },
     "execution_count": 234,
     "metadata": {},
     "output_type": "execute_result"
    }
   ],
   "source": [
    "a[0].eval(session =sess)"
   ]
  },
  {
   "cell_type": "code",
   "execution_count": 254,
   "metadata": {},
   "outputs": [
    {
     "data": {
      "text/plain": [
       "array([[ 0.,  0.,  0.,  0.,  0.,  0.,  0.,  0.,  0.,  0.,  0.,  0.,  0.,\n",
       "         0.,  0.,  0.,  0.,  0.,  0.,  0.,  0.,  0.,  0.,  0.,  0.,  0.,\n",
       "         0.,  0.,  0.,  0.,  0.,  0.,  0.,  0.,  0.,  0.,  0.,  0.,  0.,\n",
       "         0.,  0.,  0.,  0.,  0.,  0.,  0.,  0.,  0.,  0.,  0.,  0.,  0.,\n",
       "         0.,  0.,  0.,  0.,  0.,  0.,  0.,  0.,  0.,  0.,  0.,  0.,  0.,\n",
       "         0.,  0.,  0.,  0.,  0.,  0.,  0.,  0.,  0.,  0.,  0.,  0.,  0.,\n",
       "         0.,  0.,  0.,  0.,  0.,  0.,  0.,  0.,  0.,  0.,  0.,  0.,  0.,\n",
       "         0.,  0.,  0.,  0.,  0.,  0.,  0.,  0.,  0.],\n",
       "       [ 0.,  0.,  0.,  0.,  0.,  0.,  0.,  0.,  0.,  0.,  0.,  0.,  0.,\n",
       "         0.,  0.,  0.,  0.,  0.,  0.,  0.,  0.,  0.,  0.,  0.,  0.,  0.,\n",
       "         0.,  0.,  0.,  0.,  0.,  0.,  0.,  0.,  0.,  0.,  0.,  0.,  0.,\n",
       "         0.,  0.,  0.,  0.,  0.,  0.,  0.,  0.,  0.,  0.,  0.,  0.,  0.,\n",
       "         0.,  0.,  0.,  0.,  0.,  0.,  0.,  0.,  0.,  0.,  0.,  0.,  0.,\n",
       "         0.,  0.,  0.,  0.,  0.,  0.,  0.,  0.,  0.,  0.,  0.,  0.,  0.,\n",
       "         0.,  0.,  0.,  0.,  0.,  0.,  0.,  0.,  0.,  0.,  0.,  0.,  0.,\n",
       "         0.,  0.,  0.,  0.,  0.,  0.,  0.,  0.,  0.]], dtype=float32)"
      ]
     },
     "execution_count": 254,
     "metadata": {},
     "output_type": "execute_result"
    }
   ],
   "source": [
    "sess.run(a[0].assign(np.zeros(shape=(2,100))))"
   ]
  },
  {
   "cell_type": "code",
   "execution_count": 238,
   "metadata": {},
   "outputs": [
    {
     "data": {
      "text/plain": [
       "array([[ 0.,  0.,  0.,  0.,  0.,  0.,  0.,  0.,  0.,  0.,  0.,  0.,  0.,\n",
       "         0.,  0.,  0.,  0.,  0.,  0.,  0.,  0.,  0.,  0.,  0.,  0.,  0.,\n",
       "         0.,  0.,  0.,  0.,  0.,  0.,  0.,  0.,  0.,  0.,  0.,  0.,  0.,\n",
       "         0.,  0.,  0.,  0.,  0.,  0.,  0.,  0.,  0.,  0.,  0.,  0.,  0.,\n",
       "         0.,  0.,  0.,  0.,  0.,  0.,  0.,  0.,  0.,  0.,  0.,  0.,  0.,\n",
       "         0.,  0.,  0.,  0.,  0.,  0.,  0.,  0.,  0.,  0.,  0.,  0.,  0.,\n",
       "         0.,  0.,  0.,  0.,  0.,  0.,  0.,  0.,  0.,  0.,  0.,  0.,  0.,\n",
       "         0.,  0.,  0.,  0.,  0.,  0.,  0.,  0.,  0.],\n",
       "       [ 0.,  0.,  0.,  0.,  0.,  0.,  0.,  0.,  0.,  0.,  0.,  0.,  0.,\n",
       "         0.,  0.,  0.,  0.,  0.,  0.,  0.,  0.,  0.,  0.,  0.,  0.,  0.,\n",
       "         0.,  0.,  0.,  0.,  0.,  0.,  0.,  0.,  0.,  0.,  0.,  0.,  0.,\n",
       "         0.,  0.,  0.,  0.,  0.,  0.,  0.,  0.,  0.,  0.,  0.,  0.,  0.,\n",
       "         0.,  0.,  0.,  0.,  0.,  0.,  0.,  0.,  0.,  0.,  0.,  0.,  0.,\n",
       "         0.,  0.,  0.,  0.,  0.,  0.,  0.,  0.,  0.,  0.,  0.,  0.,  0.,\n",
       "         0.,  0.,  0.,  0.,  0.,  0.,  0.,  0.,  0.,  0.,  0.,  0.,  0.,\n",
       "         0.,  0.,  0.,  0.,  0.,  0.,  0.,  0.,  0.]], dtype=float32)"
      ]
     },
     "execution_count": 238,
     "metadata": {},
     "output_type": "execute_result"
    }
   ],
   "source": [
    "a[0].eval(session = sess)"
   ]
  },
  {
   "cell_type": "code",
   "execution_count": 239,
   "metadata": {
    "collapsed": true
   },
   "outputs": [],
   "source": [
    "policy_gradients_mean = policy_model_mean.optimizer.get_gradients(policy_model_mean.output, policy_model_mean.trainable_weights)"
   ]
  },
  {
   "cell_type": "code",
   "execution_count": 252,
   "metadata": {},
   "outputs": [
    {
     "data": {
      "text/plain": [
       "array([  2, 100])"
      ]
     },
     "execution_count": 252,
     "metadata": {},
     "output_type": "execute_result"
    }
   ],
   "source": [
    "np.array(sess.run(tf.shape(a[0])))"
   ]
  }
 ],
 "metadata": {
  "kernelspec": {
   "display_name": "Python 3",
   "language": "python",
   "name": "python3"
  },
  "language_info": {
   "codemirror_mode": {
    "name": "ipython",
    "version": 3
   },
   "file_extension": ".py",
   "mimetype": "text/x-python",
   "name": "python",
   "nbconvert_exporter": "python",
   "pygments_lexer": "ipython3",
   "version": "3.6.0"
  }
 },
 "nbformat": 4,
 "nbformat_minor": 2
}
