{
 "cells": [
  {
   "cell_type": "code",
   "execution_count": 1,
   "metadata": {},
   "outputs": [
    {
     "data": {
      "text/plain": [
       "'\\nimport os\\nos.environ[\"CUDA_DEVICE_ORDER\"] = \"PCI_BUS_ID\"   # see issue #152\\nos.environ[\"CUDA_VISIBLE_DEVICES\"] = \"\"\\n'"
      ]
     },
     "execution_count": 1,
     "metadata": {},
     "output_type": "execute_result"
    }
   ],
   "source": [
    "'''\n",
    "import os\n",
    "os.environ[\"CUDA_DEVICE_ORDER\"] = \"PCI_BUS_ID\"   # see issue #152\n",
    "os.environ[\"CUDA_VISIBLE_DEVICES\"] = \"\"\n",
    "'''"
   ]
  },
  {
   "cell_type": "code",
   "execution_count": 2,
   "metadata": {},
   "outputs": [
    {
     "name": "stderr",
     "output_type": "stream",
     "text": [
      "Using TensorFlow backend.\n"
     ]
    }
   ],
   "source": [
    "import gym\n",
    "from keras.models import Sequential\n",
    "from keras.layers import Dense, Dropout\n",
    "from keras.optimizers import Adam\n",
    "#from keras.constraints import MaxNorm\n",
    "import numpy as np\n",
    "import tensorflow as tf\n",
    "import gc"
   ]
  },
  {
   "cell_type": "code",
   "execution_count": 3,
   "metadata": {},
   "outputs": [
    {
     "name": "stdout",
     "output_type": "stream",
     "text": [
      "['/gpu:0']\n"
     ]
    }
   ],
   "source": [
    "#Checking use of GPUs\n",
    "from keras import backend as K\n",
    "print(K.tensorflow_backend._get_available_gpus())\n",
    "sess= K.get_session()"
   ]
  },
  {
   "cell_type": "code",
   "execution_count": 4,
   "metadata": {
    "collapsed": true
   },
   "outputs": [],
   "source": [
    "#Initializing environment\n",
    "env = gym.make('Humanoid-v2')\n",
    "So = env.reset()\n",
    "A = env.action_space.sample()"
   ]
  },
  {
   "cell_type": "code",
   "execution_count": 5,
   "metadata": {},
   "outputs": [
    {
     "name": "stdout",
     "output_type": "stream",
     "text": [
      "_________________________________________________________________\n",
      "Layer (type)                 Output Shape              Param #   \n",
      "=================================================================\n",
      "dense_1 (Dense)              (None, 400)               157600    \n",
      "_________________________________________________________________\n",
      "dropout_1 (Dropout)          (None, 400)               0         \n",
      "_________________________________________________________________\n",
      "dense_2 (Dense)              (None, 100)               40100     \n",
      "_________________________________________________________________\n",
      "dropout_2 (Dropout)          (None, 100)               0         \n",
      "_________________________________________________________________\n",
      "dense_3 (Dense)              (None, 30)                3030      \n",
      "_________________________________________________________________\n",
      "dense_4 (Dense)              (None, 1)                 31        \n",
      "=================================================================\n",
      "Total params: 200,761\n",
      "Trainable params: 200,761\n",
      "Non-trainable params: 0\n",
      "_________________________________________________________________\n",
      "None\n"
     ]
    }
   ],
   "source": [
    "#Creating the model for policy\n",
    "global policy_model\n",
    "policy_model = Sequential()\n",
    "policy_model.add(Dense(400,input_shape = np.append(So, A).shape,kernel_initializer='random_uniform', activation = 'sigmoid' ))\n",
    "policy_model.add(Dropout(0.5))\n",
    "policy_model.add(Dense(100,kernel_initializer='random_uniform', activation = 'sigmoid'))\n",
    "policy_model.add(Dropout(0.5))\n",
    "policy_model.add(Dense(30,kernel_initializer='random_uniform', activation = 'sigmoid'))\n",
    "policy_model.add(Dense(1,kernel_initializer='random_uniform', activation= 'sigmoid'))\n",
    "\n",
    "#adam = Adam(lr=0.001, beta_1=0.9, beta_2=0.999, epsilon=None, decay=0.0, amsgrad=False)\n",
    "policy_model.compile(loss=\"mse\", optimizer= \"sgd\")\n",
    "print(policy_model.summary())\n",
    "#policy_model.load_weights(\"policy.h5\")\n",
    "\n",
    "sess.run(tf.global_variables_initializer())\n",
    "\n",
    "#Intializing eligibility traces for policy improvement\n",
    "global policy_eligibility_traces\n",
    "policy_eligibility_traces= [tf.zeros(shape = tensor.eval(session = sess).shape) for tensor in policy_model.trainable_weights]\n",
    "\n",
    "#Setting learning hyperparameters \n",
    "global policy_alpha\n",
    "policy_alpha = 0.1\n",
    "global policy_lambda\n",
    "policy_lambda =  0.9"
   ]
  },
  {
   "cell_type": "code",
   "execution_count": 6,
   "metadata": {},
   "outputs": [
    {
     "name": "stdout",
     "output_type": "stream",
     "text": [
      "_________________________________________________________________\n",
      "Layer (type)                 Output Shape              Param #   \n",
      "=================================================================\n",
      "dense_5 (Dense)              (None, 400)               150800    \n",
      "_________________________________________________________________\n",
      "dropout_3 (Dropout)          (None, 400)               0         \n",
      "_________________________________________________________________\n",
      "dense_6 (Dense)              (None, 100)               40100     \n",
      "_________________________________________________________________\n",
      "dropout_4 (Dropout)          (None, 100)               0         \n",
      "_________________________________________________________________\n",
      "dense_7 (Dense)              (None, 30)                3030      \n",
      "_________________________________________________________________\n",
      "dense_8 (Dense)              (None, 1)                 31        \n",
      "=================================================================\n",
      "Total params: 193,961\n",
      "Trainable params: 193,961\n",
      "Non-trainable params: 0\n",
      "_________________________________________________________________\n",
      "None\n"
     ]
    }
   ],
   "source": [
    "#Creating model for values \n",
    "global value_model\n",
    "value_model = Sequential()\n",
    "value_model.add(Dense(400,input_shape = So.shape, kernel_initializer='random_uniform',activation = 'relu' ))\n",
    "value_model.add(Dropout(0.5))\n",
    "value_model.add(Dense(100,kernel_initializer='random_uniform', activation = 'relu'))\n",
    "value_model.add(Dropout(0.5))\n",
    "value_model.add(Dense(30, kernel_initializer='random_uniform',activation = 'relu'))\n",
    "value_model.add(Dense(1,kernel_initializer='random_uniform', activation= 'linear'))\n",
    "\n",
    "#adam = Adam(lr=0.001, beta_1=0.9, beta_2=0.999, epsilon=None, decay=0.0, amsgrad=False)\n",
    "value_model.compile(loss=\"mse\", optimizer= \"sgd\")\n",
    "print(value_model.summary())\n",
    "#value_model.load_weights(\"value.h5\")\n",
    "\n",
    "sess.run(tf.global_variables_initializer())\n",
    "\n",
    "#Intializing eligibility traces for value improvement\n",
    "global value_eligibility_traces\n",
    "value_eligibility_traces= [tf.zeros(shape = tensor.eval(session = sess).shape) for tensor in value_model.trainable_weights]\n",
    "\n",
    "#Setting learning hyperparameters \n",
    "global value_alpha\n",
    "value_alpha = 0.1\n",
    "global value_lambda\n",
    "value_lambda = 0.9"
   ]
  },
  {
   "cell_type": "code",
   "execution_count": 7,
   "metadata": {
    "collapsed": true
   },
   "outputs": [],
   "source": [
    "#Defining other hyperparameters\n",
    "\n",
    "global average_reward\n",
    "average_reward = 10000\n",
    "global etaa\n",
    "etaa = 0.01"
   ]
  },
  {
   "cell_type": "code",
   "execution_count": 8,
   "metadata": {
    "collapsed": true
   },
   "outputs": [],
   "source": [
    "#Auxiliary functions for weights update\n",
    "\n",
    "def set_weights(model, weights):  \n",
    "    if(model=='value'):\n",
    "        i=0\n",
    "        for layer in value_model.layers:\n",
    "            if 'dropout' not in layer.name:\n",
    "                layer.set_weights([weights[i],weights[i+1]])\n",
    "                i+=2\n",
    "    elif(model=='policy'):\n",
    "        i=0\n",
    "        for layerz in policy_model.layers:\n",
    "            if 'dropout' not in layerz.name:\n",
    "                layerz.set_weights([weights[i],weights[i+1]])\n",
    "                i+=2\n",
    "    else:\n",
    "        print('error')\n",
    "\n",
    "def get_value_weights():\n",
    "    weights =[]\n",
    "    for w in value_model.layers:\n",
    "        weights+= w.weights\n",
    "    return weights\n",
    "\n",
    "def get_policy_weights():\n",
    "    weights =[]\n",
    "    for w in policy_model.layers:\n",
    "        weights+= w.weights\n",
    "    return weights"
   ]
  },
  {
   "cell_type": "code",
   "execution_count": 9,
   "metadata": {
    "collapsed": true
   },
   "outputs": [],
   "source": [
    "#Update weights\n",
    "def update_weights(previous_state, action , reward, state,  terminal):\n",
    "    \n",
    "    #Compute rewards\n",
    "    global average_reward\n",
    "    delta_rewards = reward - average_reward + value_model.predict(np.array([state]))[0][0] - value_model.predict(np.array([previous_state]))[0][0]    \n",
    "    print(delta_rewards)\n",
    "    if(terminal):\n",
    "        delta_rewards = reward - average_reward + 0 - value_model.predict(np.array([previous_state]))[0][0]\n",
    "    average_reward = average_reward + etaa*delta_rewards\n",
    "    \n",
    "    #Compute value updates (eligibility traces and weights)\n",
    "    global value_eligibility_traces\n",
    "    value_gradients = value_model.optimizer.get_gradients(value_model.output, value_model.trainable_weights)\n",
    "    value_gradients = [tf.clip_by_norm(gradient, 2) for gradient in value_gradients]\n",
    "    value_eligibility_traces_op = [tf.add(tf.multiply(value_eligibility_traces[i], tf.constant(value_lambda,dtype= tf.float32)),value_gradients[i] ) for i in range(len(value_eligibility_traces))] \n",
    "    value_eligibility_traces = [tf.convert_to_tensor(x) for x in sess.run(value_eligibility_traces_op,feed_dict={value_model.input:np.array([previous_state])})]    \n",
    "    #print(sess.run(value_eligibility_traces))\n",
    "    value_weights = get_value_weights()\n",
    "    value_weights_op =  [tf.add(value_weights[i], tf.multiply(tf.constant(value_alpha*delta_rewards,dtype=tf.float32), value_eligibility_traces[i])) for i in range(len(value_weights))]\n",
    "    set_weights('value', sess.run(value_weights_op))\n",
    "    \n",
    "    #Compute policy updates (eligibility traces and weights)\n",
    "    global policy_eligibility_traces\n",
    "    policy_gradients = policy_model.optimizer.get_gradients(policy_model.output, policy_model.trainable_weights)\n",
    "    policy_gradients = [tf.clip_by_norm(gradient, 2) for gradient in policy_gradients]\n",
    "    policy_value = policy_model.predict(np.array([np.append(previous_state, action)]))[0][0]\n",
    "    policy_value = 1/ (policy_value+1)\n",
    "    policy_eligibility_traces_op = [tf.add(tf.multiply(tf.constant(policy_lambda,dtype=tf.float32), policy_eligibility_traces[i]), tf.multiply(tf.constant(policy_value, dtype= tf.float32), policy_gradients[i])) for i in range(len(policy_gradients))]\n",
    "    policy_eligibility_traces = [tf.convert_to_tensor(x) for x in sess.run(policy_eligibility_traces_op, feed_dict={policy_model.input:np.array([np.append(previous_state,action)])})]\n",
    "    policy_weights = get_policy_weights()\n",
    "    policy_weights_op =  [tf.add(policy_weights[i], tf.multiply( policy_eligibility_traces[i],tf.constant(policy_alpha*delta_rewards,dtype=tf.float32))) for i in range(len(policy_weights))]\n",
    "    set_weights('policy', sess.run(policy_weights_op))"
   ]
  },
  {
   "cell_type": "code",
   "execution_count": null,
   "metadata": {
    "collapsed": true
   },
   "outputs": [],
   "source": []
  },
  {
   "cell_type": "code",
   "execution_count": 10,
   "metadata": {},
   "outputs": [
    {
     "name": "stdout",
     "output_type": "stream",
     "text": [
      "_________________________________________________________________\n",
      "Layer (type)                 Output Shape              Param #   \n",
      "=================================================================\n",
      "dense_9 (Dense)              (None, 400)               150800    \n",
      "_________________________________________________________________\n",
      "dropout_5 (Dropout)          (None, 400)               0         \n",
      "_________________________________________________________________\n",
      "dense_10 (Dense)             (None, 100)               40100     \n",
      "_________________________________________________________________\n",
      "dropout_6 (Dropout)          (None, 100)               0         \n",
      "_________________________________________________________________\n",
      "dense_11 (Dense)             (None, 30)                3030      \n",
      "_________________________________________________________________\n",
      "dense_12 (Dense)             (None, 170)               5270      \n",
      "=================================================================\n",
      "Total params: 199,200\n",
      "Trainable params: 199,200\n",
      "Non-trainable params: 0\n",
      "_________________________________________________________________\n",
      "None\n"
     ]
    }
   ],
   "source": [
    "#Creating model for remembering preferences over each state\n",
    "number_of_preferences =10\n",
    "global preference_model\n",
    "preference_model = Sequential()\n",
    "preference_model.add(Dense(400,input_shape = So.shape, activation = 'relu' ))\n",
    "preference_model.add(Dropout(0.5))\n",
    "preference_model.add(Dense(100, activation = 'relu'))\n",
    "preference_model.add(Dropout(0.5))\n",
    "preference_model.add(Dense(30, activation = 'relu'))\n",
    "preference_model.add(Dense(A.shape[0]*number_of_preferences, activation= 'linear'))\n",
    "\n",
    "adam = Adam(lr=0.4, beta_1=0.9, beta_2=0.999, epsilon=None, decay=0.0, amsgrad=False)\n",
    "preference_model.compile(loss=\"mse\", optimizer=adam)\n",
    "print(preference_model.summary())\n",
    "#preference_model.load_weights('preference.h5')"
   ]
  },
  {
   "cell_type": "code",
   "execution_count": null,
   "metadata": {
    "collapsed": true
   },
   "outputs": [],
   "source": [
    "#Selecting an action\n",
    "def select_action(state):\n",
    "    \n",
    "    number_of_new_actions = 10\n",
    "    \n",
    "    predicted_preferences = preference_model.predict(np.array([state]))[0].reshape((number_of_preferences,A.shape[0]))\n",
    "    new_actions = env.action_space.sample().reshape(1, A.shape[0])\n",
    "    \n",
    "    for _ in range(number_of_new_actions-1):\n",
    "        new_actions= np.concatenate((new_actions,env.action_space.sample().reshape(1, A.shape[0])), axis=0 )\n",
    "    \n",
    "    all_actions = np.concatenate((predicted_preferences, new_actions), axis=0)\n",
    "    all_actionz = np.concatenate((np.tile(So, (all_actions.shape[0], 1)), all_actions),axis=1)\n",
    "    policy_preferences = policy_model.predict(all_actionz)\n",
    "    \n",
    "    actions_list = []\n",
    "    for i in range(all_actions.shape[0]):\n",
    "        actions_list.append((all_actions[i], policy_preferences[i][0]))\n",
    "    actions_list = sorted(actions_list, key = lambda x: x[1], reverse = True)\n",
    "    \n",
    "    probabilities = sess.run(tf.contrib.layers.softmax(tf.constant([[x[1] for x in actions_list]])))[0]\n",
    "    p = np.random.rand()\n",
    "    i=0\n",
    "    for j in range(probabilities.shape[0]):\n",
    "        p-=probabilities[j]\n",
    "        if(p<0):\n",
    "            i=j\n",
    "    \n",
    "    best_actions = np.array([x[0] for x in actions_list[0:number_of_preferences]]).flatten()\n",
    "    preference_model.fit(np.array([state]), np.array([best_actions]), verbose=0)\n",
    "    return actions_list[j][0]\n",
    "        \n",
    "    "
   ]
  },
  {
   "cell_type": "code",
   "execution_count": null,
   "metadata": {
    "scrolled": true
   },
   "outputs": [
    {
     "name": "stdout",
     "output_type": "stream",
     "text": [
      "Creating window glfw\n",
      "4.89614462389\n",
      "4.97380170133\n",
      "-15.787364314\n",
      "-97.053153695\n",
      "17622491.7682\n",
      "7.35987604757e+27\n"
     ]
    },
    {
     "name": "stderr",
     "output_type": "stream",
     "text": [
      "C:\\Users\\Fernando\\Anaconda3\\lib\\site-packages\\ipykernel\\__main__.py:6: RuntimeWarning: invalid value encountered in double_scalars\n"
     ]
    },
    {
     "name": "stdout",
     "output_type": "stream",
     "text": [
      "nan\n",
      "nan\n",
      "nan\n",
      "nan\n"
     ]
    }
   ],
   "source": [
    "#Main loop\n",
    "S = env.reset()\n",
    "#action_count=0\n",
    "episode_count=0\n",
    "save= True\n",
    "while(True):\n",
    "    \n",
    "    #renders environment \n",
    "    env.render()\n",
    "    \n",
    "    \n",
    "    #Selects action according to stochastic policy\n",
    "    action = select_action(S)\n",
    "    #action_count+=1\n",
    "    \n",
    "    #Takes action \n",
    "    S1, reward, done, info = env.step(action)\n",
    "    \n",
    "    \n",
    "    #Updates weights\n",
    "    #if(np.random.randint(6)%3==0):\n",
    "    update_weights(S , action, reward, S1 , done)\n",
    "    \n",
    "    S = S1\n",
    "    \n",
    "    if(done):\n",
    "        \n",
    "        print('We are now at '+str(episode_count))\n",
    "        gc.collect()\n",
    "        print('average reward '+ str(average_reward))\n",
    "        \n",
    "        #Resets episode\n",
    "        S = env.reset()\n",
    "        #action_count=0\n",
    "        episode_count+=1\n",
    "        if(episode_count%5==0):\n",
    "            \n",
    "            if(save):\n",
    "                print('saving models')\n",
    "                print('average reward '+ str(average_reward))\n",
    "                preference_model.save('preference.h5')\n",
    "                policy_model.save('policy.h5')\n",
    "                value_model.save('value.h5')\n",
    "\n",
    "        \n",
    "        #Resets eligibility traces\n",
    "        global value_eligibility_traces, policy_eligibility_traces\n",
    "        policy_eligibility_traces= [tf.zeros(shape = tensor.eval(session = sess).shape) for tensor in policy_model.trainable_weights]\n",
    "        value_eligibility_traces= [tf.zeros(shape = tensor.eval(session = sess).shape) for tensor in value_model.trainable_weights]\n",
    "    "
   ]
  }
 ],
 "metadata": {
  "kernelspec": {
   "display_name": "Python 3",
   "language": "python",
   "name": "python3"
  },
  "language_info": {
   "codemirror_mode": {
    "name": "ipython",
    "version": 3
   },
   "file_extension": ".py",
   "mimetype": "text/x-python",
   "name": "python",
   "nbconvert_exporter": "python",
   "pygments_lexer": "ipython3",
   "version": "3.6.0"
  }
 },
 "nbformat": 4,
 "nbformat_minor": 2
}
