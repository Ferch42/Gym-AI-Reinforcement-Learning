{
 "cells": [
  {
   "cell_type": "code",
   "execution_count": 1,
   "metadata": {},
   "outputs": [
    {
     "name": "stderr",
     "output_type": "stream",
     "text": [
      "Using TensorFlow backend.\n"
     ]
    }
   ],
   "source": [
    "import gym\n",
    "from keras.models import Sequential\n",
    "from keras.layers import Dense, Dropout\n",
    "from keras.optimizers import Adam\n",
    "#from keras.constraints import MaxNorm\n",
    "import numpy as np\n",
    "import tensorflow as tf"
   ]
  },
  {
   "cell_type": "code",
   "execution_count": 2,
   "metadata": {},
   "outputs": [
    {
     "name": "stdout",
     "output_type": "stream",
     "text": [
      "['/gpu:0']\n"
     ]
    }
   ],
   "source": [
    "#Checking use of GPUs\n",
    "from keras import backend as K\n",
    "print(K.tensorflow_backend._get_available_gpus())\n",
    "sess= K.get_session()"
   ]
  },
  {
   "cell_type": "code",
   "execution_count": 3,
   "metadata": {
    "collapsed": true
   },
   "outputs": [],
   "source": [
    "#Initializing environment\n",
    "env = gym.make('Humanoid-v2')\n",
    "So = env.reset()\n",
    "A = env.action_space.sample()"
   ]
  },
  {
   "cell_type": "code",
   "execution_count": 4,
   "metadata": {},
   "outputs": [
    {
     "name": "stdout",
     "output_type": "stream",
     "text": [
      "_________________________________________________________________\n",
      "Layer (type)                 Output Shape              Param #   \n",
      "=================================================================\n",
      "dense_1 (Dense)              (None, 400)               157600    \n",
      "_________________________________________________________________\n",
      "dropout_1 (Dropout)          (None, 400)               0         \n",
      "_________________________________________________________________\n",
      "dense_2 (Dense)              (None, 100)               40100     \n",
      "_________________________________________________________________\n",
      "dropout_2 (Dropout)          (None, 100)               0         \n",
      "_________________________________________________________________\n",
      "dense_3 (Dense)              (None, 30)                3030      \n",
      "_________________________________________________________________\n",
      "dense_4 (Dense)              (None, 1)                 31        \n",
      "=================================================================\n",
      "Total params: 200,761\n",
      "Trainable params: 200,761\n",
      "Non-trainable params: 0\n",
      "_________________________________________________________________\n",
      "None\n"
     ]
    }
   ],
   "source": [
    "#Creating the model for policy\n",
    "global policy_model\n",
    "policy_model = Sequential()\n",
    "policy_model.add(Dense(400,input_shape = np.append(So, A).shape, activation = 'sigmoid' ))\n",
    "policy_model.add(Dropout(0.5))\n",
    "policy_model.add(Dense(100, activation = 'sigmoid'))\n",
    "policy_model.add(Dropout(0.5))\n",
    "policy_model.add(Dense(30, activation = 'sigmoid'))\n",
    "policy_model.add(Dense(1, activation= 'sigmoid'))\n",
    "\n",
    "#adam = Adam(lr=0.001, beta_1=0.9, beta_2=0.999, epsilon=None, decay=0.0, amsgrad=False)\n",
    "policy_model.compile(loss=\"mse\", optimizer= \"sgd\")\n",
    "print(policy_model.summary())\n",
    "\n",
    "sess.run(tf.global_variables_initializer())\n",
    "\n",
    "#Intializing eligibility traces for policy improvement\n",
    "global policy_eligibility_traces\n",
    "policy_eligibility_traces= [tf.zeros(shape = tensor.eval(session = sess).shape) for tensor in policy_model.trainable_weights]\n",
    "global policy_lambda_matrix\n",
    "policy_lambda_matrix = [tf.eye(tensor.eval(session = sess).shape[0]) for tensor in policy_model.trainable_weights]\n",
    "\n",
    "#Setting learning hyperparameters \n",
    "global policy_alpha\n",
    "policy_alpha = np.exp2(-2)\n",
    "global policy_lambda\n",
    "policy_lambda =  np.exp2(-2)"
   ]
  },
  {
   "cell_type": "code",
   "execution_count": 5,
   "metadata": {},
   "outputs": [
    {
     "name": "stdout",
     "output_type": "stream",
     "text": [
      "_________________________________________________________________\n",
      "Layer (type)                 Output Shape              Param #   \n",
      "=================================================================\n",
      "dense_5 (Dense)              (None, 400)               150800    \n",
      "_________________________________________________________________\n",
      "dropout_3 (Dropout)          (None, 400)               0         \n",
      "_________________________________________________________________\n",
      "dense_6 (Dense)              (None, 100)               40100     \n",
      "_________________________________________________________________\n",
      "dropout_4 (Dropout)          (None, 100)               0         \n",
      "_________________________________________________________________\n",
      "dense_7 (Dense)              (None, 30)                3030      \n",
      "_________________________________________________________________\n",
      "dense_8 (Dense)              (None, 1)                 31        \n",
      "=================================================================\n",
      "Total params: 193,961\n",
      "Trainable params: 193,961\n",
      "Non-trainable params: 0\n",
      "_________________________________________________________________\n",
      "None\n"
     ]
    }
   ],
   "source": [
    "#Creating model for values \n",
    "global value_model\n",
    "value_model = Sequential()\n",
    "value_model.add(Dense(400,input_shape = So.shape, activation = 'relu' ))\n",
    "value_model.add(Dropout(0.5))\n",
    "value_model.add(Dense(100, activation = 'relu'))\n",
    "value_model.add(Dropout(0.5))\n",
    "value_model.add(Dense(30, activation = 'relu'))\n",
    "value_model.add(Dense(1, activation= 'linear'))\n",
    "\n",
    "#adam = Adam(lr=0.001, beta_1=0.9, beta_2=0.999, epsilon=None, decay=0.0, amsgrad=False)\n",
    "value_model.compile(loss=\"mse\", optimizer= \"sgd\")\n",
    "print(value_model.summary())\n",
    "\n",
    "sess.run(tf.global_variables_initializer())\n",
    "\n",
    "#Intializing eligibility traces for value improvement\n",
    "global value_eligibility_traces\n",
    "value_eligibility_traces= [tf.zeros(shape = tensor.eval(session = sess).shape) for tensor in value_model.trainable_weights]\n",
    "global value_lambda_matrix\n",
    "value_lambda_matrix = [tf.eye(tensor.eval(session = sess).shape[0]) for tensor in value_model.trainable_weights]\n",
    "\n",
    "#Setting learning hyperparameters \n",
    "global value_alpha\n",
    "value_alpha = np.exp2(-2)\n",
    "global value_lambda\n",
    "value_lambda = np.exp2(-2)"
   ]
  },
  {
   "cell_type": "code",
   "execution_count": 6,
   "metadata": {
    "collapsed": true
   },
   "outputs": [],
   "source": [
    "#Defining other hyperparameters\n",
    "\n",
    "global gammaa\n",
    "gammaa = 0.9\n",
    "global average_reward\n",
    "average_reward = 0\n",
    "global etaa\n",
    "etaa = 0.01"
   ]
  },
  {
   "cell_type": "code",
   "execution_count": 10,
   "metadata": {
    "collapsed": true
   },
   "outputs": [],
   "source": [
    "#Auxiliary functions for weights update\n",
    "\n",
    "def set_weights(model, weights):  \n",
    "    if(model=='value'):\n",
    "        i=0\n",
    "        for layer in value_model.layers:\n",
    "            if 'dropout' not in layer.name:\n",
    "                layer.set_weights([weights[i],weights[i+1]])\n",
    "                i+=2\n",
    "    elif(model=='policy'):\n",
    "        i=0\n",
    "        for layerz in policy_model.layers:\n",
    "            if 'dropout' not in layerz.name:\n",
    "                layerz.set_weights([weights[i],weights[i+1]])\n",
    "                i+=2\n",
    "    else:\n",
    "        print('error')\n",
    "\n",
    "def get_value_weights():\n",
    "    weights =[]\n",
    "    for w in value_model.layers:\n",
    "        weights+= w.weights\n",
    "    return weights\n",
    "\n",
    "def get_policy_weights():\n",
    "    weights =[]\n",
    "    for w in policy_model.layers:\n",
    "        weights+= w.weights\n",
    "    return weights"
   ]
  },
  {
   "cell_type": "code",
   "execution_count": 8,
   "metadata": {
    "collapsed": true
   },
   "outputs": [],
   "source": [
    "#Update weights\n",
    "def update_weights(previous_state, action , reward, state,  terminal):\n",
    "    \n",
    "    #Compute rewards\n",
    "    global average_reward\n",
    "    delta_rewards = reward - average_reward + value_model.predict(np.array([state]))[0][0] - value_model.predict(np.array([previous_state]))[0][0]    \n",
    "    if(terminal):\n",
    "        delta_rewards = reward - average_reward + 0 - value_model.predict(np.array([previous_state]))[0][0]        \n",
    "    average_reward = average_reward + etaa*delta_rewards\n",
    "    \n",
    "    #Compute value updates (eligibility traces and weights)\n",
    "    global value_eligibility_traces\n",
    "    value_gradients = value_model.optimizer.get_gradients(value_model.output, value_model.trainable_weights)\n",
    "    value_eligibility_traces_op = [tf.add(tf.multiply(value_eligibility_traces[i], tf.constant(value_lambda,dtype= tf.float32)),value_gradients[i] ) for i in range(len(value_eligibility_traces))] \n",
    "    value_eligibility_traces = [tf.convert_to_tensor(x) for x in sess.run(value_eligibility_traces_op,feed_dict={value_model.input:np.array([previous_state])})]\n",
    "    value_weights = get_value_weights()\n",
    "    value_weights_op =  [tf.add(value_weights[i], tf.multiply(tf.constant(value_alpha*delta_rewards,dtype=tf.float32), value_eligibility_traces[i])) for i in range(len(value_weights))]\n",
    "    set_weights('value', sess.run(value_weights_op))\n",
    "    \n",
    "    #Compute policy updates (eligibility traces and weights)\n",
    "    global policy_eligibility_traces\n",
    "    policy_gradients = policy_model.optimizer.get_gradients(policy_model.output, policy_model.trainable_weights)\n",
    "    policy_eligibility_traces_op = [tf.add(tf.multiply(tf.constant(policy_lambda,dtype=tf.float32), policy_eligibility_traces[i]), tf.multiply(tf.constant((1/(policy_model.predict(np.array([np.append(previous_state, action)]))[0][0])), dtype= tf.float32), policy_gradients[i])) for i in range(len(policy_gradients))]\n",
    "    policy_eligibility_traces = [tf.convert_to_tensor(x) for x in sess.run(policy_eligibility_traces_op, feed_dict={policy_model.input:np.array([np.append(previous_state,action)])})]\n",
    "    policy_weights = get_policy_weights()\n",
    "    policy_weights_op =  [tf.add(policy_weights[i], tf.multiply( policy_eligibility_traces[i],tf.constant(policy_alpha*delta_rewards,dtype=tf.float32))) for i in range(len(policy_weights))]\n",
    "    set_weights('policy', sess.run(policy_weights_op))"
   ]
  },
  {
   "cell_type": "code",
   "execution_count": 11,
   "metadata": {},
   "outputs": [],
   "source": [
    "update_weights(So,A,1,So,False)"
   ]
  },
  {
   "cell_type": "code",
   "execution_count": 12,
   "metadata": {
    "collapsed": true
   },
   "outputs": [],
   "source": [
    "a=0\n",
    "def asd():\n",
    "    print(a)"
   ]
  },
  {
   "cell_type": "code",
   "execution_count": null,
   "metadata": {
    "collapsed": true
   },
   "outputs": [],
   "source": []
  },
  {
   "cell_type": "code",
   "execution_count": null,
   "metadata": {
    "collapsed": true
   },
   "outputs": [],
   "source": []
  }
 ],
 "metadata": {
  "kernelspec": {
   "display_name": "Python 3",
   "language": "python",
   "name": "python3"
  },
  "language_info": {
   "codemirror_mode": {
    "name": "ipython",
    "version": 3
   },
   "file_extension": ".py",
   "mimetype": "text/x-python",
   "name": "python",
   "nbconvert_exporter": "python",
   "pygments_lexer": "ipython3",
   "version": "3.6.0"
  }
 },
 "nbformat": 4,
 "nbformat_minor": 2
}
