{
 "cells": [
  {
   "cell_type": "markdown",
   "metadata": {},
   "source": [
    "# Reinforcement Learning\n",
    "## Importing Libraries"
   ]
  },
  {
   "cell_type": "code",
   "execution_count": 1,
   "metadata": {},
   "outputs": [
    {
     "name": "stderr",
     "output_type": "stream",
     "text": [
      "Using TensorFlow backend.\n"
     ]
    }
   ],
   "source": [
    "import gym\n",
    "from keras.models import Sequential\n",
    "from keras.layers import Dense, Dropout\n",
    "from keras.optimizers import Adam\n",
    "#from keras.constraints import MaxNorm\n",
    "import numpy as np\n",
    "import tensorflow as tf\n",
    "import gc\n",
    "import pickle\n",
    "from keras.models import load_model\n",
    "from time import time"
   ]
  },
  {
   "cell_type": "markdown",
   "metadata": {},
   "source": [
    "### Checking the use of GPUS"
   ]
  },
  {
   "cell_type": "code",
   "execution_count": 2,
   "metadata": {},
   "outputs": [
    {
     "name": "stdout",
     "output_type": "stream",
     "text": [
      "['/gpu:0']\n"
     ]
    }
   ],
   "source": [
    "from keras import backend as K\n",
    "print(K.tensorflow_backend._get_available_gpus())\n",
    "sess= K.get_session()"
   ]
  },
  {
   "cell_type": "markdown",
   "metadata": {},
   "source": [
    "## Initializing Environment"
   ]
  },
  {
   "cell_type": "code",
   "execution_count": 3,
   "metadata": {
    "collapsed": true
   },
   "outputs": [],
   "source": [
    "env = gym.make('Humanoid-v2')\n",
    "So = env.reset()\n",
    "A = env.action_space.sample()"
   ]
  },
  {
   "cell_type": "markdown",
   "metadata": {},
   "source": [
    "## Setting learning hyperparameters "
   ]
  },
  {
   "cell_type": "code",
   "execution_count": 4,
   "metadata": {
    "collapsed": true
   },
   "outputs": [],
   "source": [
    "#Policy\n",
    "policy_alpha = 0.01\n",
    "policy_lambda =  0.9\n",
    "#Value\n",
    "value_alpha = 0.01\n",
    "value_lambda = 0.9"
   ]
  },
  {
   "cell_type": "markdown",
   "metadata": {},
   "source": [
    "## Creating the model for policy mean"
   ]
  },
  {
   "cell_type": "code",
   "execution_count": 5,
   "metadata": {},
   "outputs": [
    {
     "name": "stdout",
     "output_type": "stream",
     "text": [
      "Policy Mean network\n",
      "_________________________________________________________________\n",
      "Layer (type)                 Output Shape              Param #   \n",
      "=================================================================\n",
      "dense_1 (Dense)              (None, 100)               37700     \n",
      "_________________________________________________________________\n",
      "dropout_1 (Dropout)          (None, 100)               0         \n",
      "_________________________________________________________________\n",
      "dense_2 (Dense)              (None, 100)               10100     \n",
      "_________________________________________________________________\n",
      "dropout_2 (Dropout)          (None, 100)               0         \n",
      "_________________________________________________________________\n",
      "dense_3 (Dense)              (None, 100)               10100     \n",
      "_________________________________________________________________\n",
      "dropout_3 (Dropout)          (None, 100)               0         \n",
      "_________________________________________________________________\n",
      "dense_4 (Dense)              (None, 100)               10100     \n",
      "_________________________________________________________________\n",
      "dropout_4 (Dropout)          (None, 100)               0         \n",
      "_________________________________________________________________\n",
      "dense_5 (Dense)              (None, 100)               10100     \n",
      "_________________________________________________________________\n",
      "dropout_5 (Dropout)          (None, 100)               0         \n",
      "_________________________________________________________________\n",
      "dense_6 (Dense)              (None, 17)                1717      \n",
      "=================================================================\n",
      "Total params: 79,817\n",
      "Trainable params: 79,817\n",
      "Non-trainable params: 0\n",
      "_________________________________________________________________\n",
      "None\n"
     ]
    }
   ],
   "source": [
    "policy_model_mean = Sequential()\n",
    "policy_model_mean.add(Dense(100,input_shape = So.shape ,kernel_initializer='random_uniform', activation = 'relu' ))\n",
    "policy_model_mean.add(Dropout(0.5))\n",
    "policy_model_mean.add(Dense(100,kernel_initializer='random_uniform', activation = 'relu'))\n",
    "policy_model_mean.add(Dropout(0.5))\n",
    "policy_model_mean.add(Dense(100,kernel_initializer='random_uniform', activation = 'relu'))\n",
    "policy_model_mean.add(Dropout(0.5))\n",
    "policy_model_mean.add(Dense(100,kernel_initializer='random_uniform', activation = 'relu'))\n",
    "policy_model_mean.add(Dropout(0.5))\n",
    "policy_model_mean.add(Dense(100,kernel_initializer='random_uniform', activation = 'relu'))\n",
    "policy_model_mean.add(Dropout(0.5))\n",
    "policy_model_mean.add(Dense( A.shape[0],kernel_initializer='random_uniform', activation='linear' ))\n",
    "\n",
    "adam = Adam(lr=0.001, beta_1=0.9, beta_2=0.999, epsilon=None, decay=0.0, amsgrad=False)\n",
    "policy_model_mean.compile(loss=\"mse\", optimizer= adam)\n",
    "print(\"Policy Mean network\")\n",
    "print(policy_model_mean.summary())"
   ]
  },
  {
   "cell_type": "markdown",
   "metadata": {},
   "source": [
    "## Creating the model for policy std"
   ]
  },
  {
   "cell_type": "code",
   "execution_count": 6,
   "metadata": {},
   "outputs": [
    {
     "name": "stdout",
     "output_type": "stream",
     "text": [
      "Policy std network\n",
      "_________________________________________________________________\n",
      "Layer (type)                 Output Shape              Param #   \n",
      "=================================================================\n",
      "dense_7 (Dense)              (None, 100)               37700     \n",
      "_________________________________________________________________\n",
      "dropout_6 (Dropout)          (None, 100)               0         \n",
      "_________________________________________________________________\n",
      "dense_8 (Dense)              (None, 100)               10100     \n",
      "_________________________________________________________________\n",
      "dropout_7 (Dropout)          (None, 100)               0         \n",
      "_________________________________________________________________\n",
      "dense_9 (Dense)              (None, 100)               10100     \n",
      "_________________________________________________________________\n",
      "dropout_8 (Dropout)          (None, 100)               0         \n",
      "_________________________________________________________________\n",
      "dense_10 (Dense)             (None, 100)               10100     \n",
      "_________________________________________________________________\n",
      "dropout_9 (Dropout)          (None, 100)               0         \n",
      "_________________________________________________________________\n",
      "dense_11 (Dense)             (None, 100)               10100     \n",
      "_________________________________________________________________\n",
      "dropout_10 (Dropout)         (None, 100)               0         \n",
      "_________________________________________________________________\n",
      "dense_12 (Dense)             (None, 17)                1717      \n",
      "=================================================================\n",
      "Total params: 79,817\n",
      "Trainable params: 79,817\n",
      "Non-trainable params: 0\n",
      "_________________________________________________________________\n",
      "None\n"
     ]
    }
   ],
   "source": [
    "policy_model_std = Sequential()\n",
    "policy_model_std.add(Dense(100,input_shape = So.shape ,kernel_initializer='random_uniform', activation = 'relu' ))\n",
    "policy_model_std.add(Dropout(0.5))\n",
    "policy_model_std.add(Dense(100,kernel_initializer='random_uniform', activation = 'relu'))\n",
    "policy_model_std.add(Dropout(0.5))\n",
    "policy_model_std.add(Dense(100,kernel_initializer='random_uniform', activation = 'relu'))\n",
    "policy_model_std.add(Dropout(0.5))\n",
    "policy_model_std.add(Dense(100,kernel_initializer='random_uniform', activation = 'relu'))\n",
    "policy_model_std.add(Dropout(0.5))\n",
    "policy_model_std.add(Dense(100,kernel_initializer='random_uniform', activation = 'relu'))\n",
    "policy_model_std.add(Dropout(0.5))\n",
    "policy_model_std.add(Dense( A.shape[0],kernel_initializer='random_uniform', activation='linear' ))\n",
    "\n",
    "adam = Adam(lr=0.001, beta_1=0.9, beta_2=0.999, epsilon=None, decay=0.0, amsgrad=False)\n",
    "policy_model_std.compile(loss=\"mse\", optimizer= adam)\n",
    "print(\"Policy std network\")\n",
    "print(policy_model_std.summary())"
   ]
  },
  {
   "cell_type": "markdown",
   "metadata": {},
   "source": [
    "## Creating model for values "
   ]
  },
  {
   "cell_type": "code",
   "execution_count": 7,
   "metadata": {},
   "outputs": [
    {
     "name": "stdout",
     "output_type": "stream",
     "text": [
      "Value Model\n",
      "_________________________________________________________________\n",
      "Layer (type)                 Output Shape              Param #   \n",
      "=================================================================\n",
      "dense_13 (Dense)             (None, 100)               37700     \n",
      "_________________________________________________________________\n",
      "dropout_11 (Dropout)         (None, 100)               0         \n",
      "_________________________________________________________________\n",
      "dense_14 (Dense)             (None, 100)               10100     \n",
      "_________________________________________________________________\n",
      "dropout_12 (Dropout)         (None, 100)               0         \n",
      "_________________________________________________________________\n",
      "dense_15 (Dense)             (None, 100)               10100     \n",
      "_________________________________________________________________\n",
      "dropout_13 (Dropout)         (None, 100)               0         \n",
      "_________________________________________________________________\n",
      "dense_16 (Dense)             (None, 100)               10100     \n",
      "_________________________________________________________________\n",
      "dropout_14 (Dropout)         (None, 100)               0         \n",
      "_________________________________________________________________\n",
      "dense_17 (Dense)             (None, 100)               10100     \n",
      "_________________________________________________________________\n",
      "dropout_15 (Dropout)         (None, 100)               0         \n",
      "_________________________________________________________________\n",
      "dense_18 (Dense)             (None, 1)                 101       \n",
      "=================================================================\n",
      "Total params: 78,201\n",
      "Trainable params: 78,201\n",
      "Non-trainable params: 0\n",
      "_________________________________________________________________\n",
      "None\n"
     ]
    }
   ],
   "source": [
    "value_model = Sequential()\n",
    "value_model.add(Dense(100,input_shape = So.shape, kernel_initializer='random_uniform',activation = 'relu' ))\n",
    "value_model.add(Dropout(0.5))\n",
    "value_model.add(Dense(100, kernel_initializer='random_uniform',activation = 'relu'))\n",
    "value_model.add(Dropout(0.5))\n",
    "value_model.add(Dense(100, kernel_initializer='random_uniform',activation = 'relu'))\n",
    "value_model.add(Dropout(0.5))\n",
    "value_model.add(Dense(100, kernel_initializer='random_uniform',activation = 'relu'))\n",
    "value_model.add(Dropout(0.5))\n",
    "value_model.add(Dense(100, kernel_initializer='random_uniform',activation = 'relu'))\n",
    "value_model.add(Dropout(0.5))\n",
    "value_model.add(Dense(1,kernel_initializer='random_uniform', activation= 'linear'))\n",
    "\n",
    "print(\"Value Model\")\n",
    "adam = Adam(lr=0.001, beta_1=0.9, beta_2=0.999, epsilon=None, decay=0.0, amsgrad=False)\n",
    "value_model.compile(loss=\"mse\", optimizer= adam)\n",
    "print(value_model.summary())"
   ]
  },
  {
   "cell_type": "markdown",
   "metadata": {},
   "source": [
    "## Eligibility Traces for the models"
   ]
  },
  {
   "cell_type": "code",
   "execution_count": 8,
   "metadata": {
    "collapsed": true
   },
   "outputs": [],
   "source": [
    "sess.run(tf.global_variables_initializer())\n",
    "\n",
    "policy_eligibility_traces_mean= [tf.Variable(0) for tensor in policy_model_mean.trainable_weights]\n",
    "policy_eligibility_traces_std= [tf.zeros(shape = tensor.eval(session = sess).shape) for tensor in policy_model_std.trainable_weights]\n",
    "value_eligibility_traces= [tf.zeros(shape = tensor.eval(session = sess).shape) for tensor in value_model.trainable_weights]"
   ]
  },
  {
   "cell_type": "markdown",
   "metadata": {},
   "source": [
    "## Defining other hyperparameters concerning the reinforcement learning"
   ]
  },
  {
   "cell_type": "code",
   "execution_count": 9,
   "metadata": {
    "collapsed": true
   },
   "outputs": [],
   "source": [
    "average_reward = 5 #pickle.load(open('average_reward.ferch','rb'))\n",
    "cumulative_reward=0\n",
    "average_reward_variance = 0 \n",
    "etaa = 0.01"
   ]
  },
  {
   "cell_type": "code",
   "execution_count": 10,
   "metadata": {
    "collapsed": true
   },
   "outputs": [],
   "source": [
    "if(False):\n",
    "    policy_model_mean = load_model('policy_mean.h5')\n",
    "    policy_model_std = load_model('policy_std.h5')\n",
    "    value_model = load_model('value.h5')"
   ]
  },
  {
   "cell_type": "markdown",
   "metadata": {},
   "source": [
    "## Auxiliary functions for weights update\n"
   ]
  },
  {
   "cell_type": "code",
   "execution_count": 11,
   "metadata": {
    "collapsed": true
   },
   "outputs": [],
   "source": [
    "def set_weights(model, weights):  \n",
    "    if(model=='value'):\n",
    "        i=0\n",
    "        for layer in value_model.layers:\n",
    "            if 'dropout' not in layer.name:\n",
    "                layer.set_weights([weights[i],weights[i+1]])\n",
    "                i+=2\n",
    "    elif(model=='policy_mean'):\n",
    "        i=0\n",
    "        for layerz in policy_model_mean.layers:\n",
    "            if 'dropout' not in layerz.name:\n",
    "                layerz.set_weights([weights[i],weights[i+1]])\n",
    "                i+=2\n",
    "                \n",
    "    elif(model=='policy_std'):\n",
    "        i=0\n",
    "        for layerz in policy_model_std.layers:\n",
    "            if 'dropout' not in layerz.name:\n",
    "                layerz.set_weights([weights[i],weights[i+1]])\n",
    "                i+=2\n",
    "    else:\n",
    "        print('error')\n",
    "\n",
    "def get_value_weights():\n",
    "    weights =[]\n",
    "    for w in value_model.layers:\n",
    "        weights+= w.weights\n",
    "    return weights\n",
    "\n",
    "def get_policy_weights_mean():\n",
    "    weights =[]\n",
    "    for w in policy_model_mean.layers:\n",
    "        weights+= w.weights\n",
    "    return weights\n",
    "\n",
    "def get_policy_weights_std():\n",
    "    weights =[]\n",
    "    for w in policy_model_std.layers:\n",
    "        weights+= w.weights\n",
    "    return weights"
   ]
  },
  {
   "cell_type": "code",
   "execution_count": 12,
   "metadata": {
    "collapsed": true
   },
   "outputs": [],
   "source": [
    "def check_action(action):\n",
    "    #FIXING ACTION INCONSISTENCIES\n",
    "    low = env.action_space.low\n",
    "    high = env.action_space.high\n",
    "    \n",
    "    for i in range(action.shape[0]):\n",
    "        if(action[i]>high[i]):\n",
    "            return True\n",
    "        if(action[i]<low[i]):\n",
    "            return True\n",
    "    return False"
   ]
  },
  {
   "cell_type": "markdown",
   "metadata": {},
   "source": [
    "## Update weights"
   ]
  },
  {
   "cell_type": "code",
   "execution_count": 13,
   "metadata": {
    "collapsed": true
   },
   "outputs": [],
   "source": [
    "def update_weights(previous_state, action , reward, state,  terminal, skip_count):\n",
    "    \n",
    "    #Compute rewards\n",
    "    global average_reward,rewardz_received,delta_rewardz_received, cumulative_reward , average_reward_variance\n",
    "    delta_rewards = reward - average_reward*skip_count + value_model.predict(np.array([state]))[0][0] - value_model.predict(np.array([previous_state]))[0][0]    \n",
    "    cumulative_reward = (cumulative_reward + reward)/2\n",
    "    print(value_model.predict(np.array([previous_state]))[0][0] ,\"=====\",value_model.predict(np.array([state]))[0][0],\"====\",delta_rewards)\n",
    "    if(terminal):\n",
    "        delta_rewards = reward - average_reward*skip_count + 0 - value_model.predict(np.array([previous_state]))[0][0]\n",
    "    thresh = average_reward + cumulative_reward\n",
    "    if(delta_rewards>=thresh):\n",
    "        delta_rewards =thresh\n",
    "    if(delta_rewards<=-thresh):\n",
    "        delta_rewards=-thresh\n",
    "    average_reward = average_reward + etaa*delta_rewards\n",
    "    average_reward_variance = (np.abs(delta_rewards) + average_reward_variance)/2\n",
    "    \n",
    "    #Compute value updates (eligibility traces and weights)\n",
    "    global value_eligibility_traces\n",
    "    value_gradients = value_model.optimizer.get_gradients(value_model.output, value_model.trainable_weights)\n",
    "    value_gradients = [tf.clip_by_norm(gradient, 1) for gradient in value_gradients]\n",
    "    value_eligibility_traces_op = [tf.add(tf.multiply(value_eligibility_traces[i], tf.constant(value_lambda,dtype= tf.float32)),value_gradients[i] ) for i in range(len(value_eligibility_traces))] \n",
    "    value_eligibility_traces = [tf.convert_to_tensor(x) for x in sess.run(value_eligibility_traces_op,feed_dict={value_model.input:np.array([previous_state])})]       \n",
    "    value_weights = get_value_weights()\n",
    "    value_weights_op =  [tf.add(value_weights[i], tf.multiply(tf.constant(value_alpha*delta_rewards,dtype=tf.float32), value_eligibility_traces[i])) for i in range(len(value_weights))]\n",
    "    set_weights('value', sess.run(value_weights_op))\n",
    "    \n",
    "    #Compute policy updates (eligibility traces and weights)\n",
    "    \n",
    "    global policy_eligibility_traces_mean, policy_eligibility_traces_std\n",
    "    policy_mean = policy_model_mean.predict(np.array([previous_state]))[0]\n",
    "    policy_std = policy_model_std.predict(np.array([previous_state]))[0]\n",
    "    policy_std= policy_std*policy_std\n",
    "    \n",
    "    ##################################################  MEAN ##################################################################\n",
    "    loss_mean = tf.divide(tf.subtract(tf.constant(action, dtype=tf.float32), policy_model_mean.output), policy_std*policy_std)\n",
    "    policy_gradients_mean = policy_model_mean.optimizer.get_gradients(loss_mean, policy_model_mean.trainable_weights)\n",
    "    policy_gradients_mean = [tf.clip_by_norm(gradient, 1) for gradient in policy_gradients_mean]\n",
    "\n",
    "    policy_eligibility_traces_op_mean = [tf.add(tf.multiply(tf.constant(policy_lambda,dtype=tf.float32), policy_eligibility_traces_mean[i]), policy_gradients_mean[i]) for i in range(len(policy_gradients_mean))]\n",
    "    policy_eligibility_traces_mean = [tf.convert_to_tensor(x) for x in sess.run(policy_eligibility_traces_op_mean, feed_dict={policy_model_mean.input:np.array([previous_state])})]\n",
    "    policy_weights_mean = get_policy_weights_mean()\n",
    "    policy_weights_op_mean =  [tf.add(policy_weights_mean[i], tf.multiply( policy_eligibility_traces_mean[i],tf.constant(policy_alpha*delta_rewards,dtype=tf.float32))) for i in range(len(policy_weights_mean))]\n",
    "    set_weights('policy_mean', sess.run(policy_weights_op_mean))    \n",
    "    \n",
    "    ##################################################   STD ###################################################################\n",
    "    loss_std = 2* tf.subtract(tf.divide(tf.square(tf.subtract(tf.constant(action, dtype=tf.float32),tf.constant(policy_mean, dtype= tf.float32))), tf.pow(policy_model_std.output, 3)), tf.divide(1, policy_model_std.output))\n",
    "    policy_gradients_std = policy_model_std.optimizer.get_gradients(loss_std, policy_model_std.trainable_weights)\n",
    "    policy_gradients_std = [tf.clip_by_norm(gradient, 1) for gradient in policy_gradients_std]\n",
    "\n",
    "    policy_eligibility_traces_op_std = [tf.add(tf.multiply(tf.constant(policy_lambda,dtype=tf.float32), policy_eligibility_traces_std[i]), policy_gradients_std[i]) for i in range(len(policy_gradients_std))]\n",
    "    policy_eligibility_traces_std = [tf.convert_to_tensor(x) for x in sess.run(policy_eligibility_traces_op_std, feed_dict={policy_model_std.input:np.array([previous_state])})]\n",
    "    policy_weights_std = get_policy_weights_std()\n",
    "    policy_weights_op_std =  [tf.add(policy_weights_std[i], tf.multiply( policy_eligibility_traces_std[i],tf.constant(policy_alpha*delta_rewards,dtype=tf.float32))) for i in range(len(policy_weights_std))]\n",
    "    set_weights('policy_std', sess.run(policy_weights_op_std))    \n",
    "    \n",
    "    "
   ]
  },
  {
   "cell_type": "markdown",
   "metadata": {},
   "source": [
    "## Sample action "
   ]
  },
  {
   "cell_type": "code",
   "execution_count": 14,
   "metadata": {
    "collapsed": true
   },
   "outputs": [],
   "source": [
    "def select_action(state):\n",
    "    \n",
    "    mean = policy_model_mean.predict(np.array([state]))[0]\n",
    "    std = policy_model_std.predict(np.array([state]))[0]\n",
    "    std= std*std\n",
    "    #print(mean)\n",
    "    covariance = np.zeros([mean.shape[0],mean.shape[0]])\n",
    "    \n",
    "    for i in range(std.shape[0]):\n",
    "        covariance[i][i]= std[i]\n",
    "        \n",
    "    action = np.random.multivariate_normal(mean, covariance)\n",
    "    #print(action)\n",
    "\n",
    "    return action\n"
   ]
  },
  {
   "cell_type": "code",
   "execution_count": 15,
   "metadata": {},
   "outputs": [
    {
     "data": {
      "text/plain": [
       "'      \\n    #FIXING ACTION INCONSISTENCIES\\n    low = env.action_space.low\\n    high = env.action_space.high\\n    \\n    for i in range(action.shape[0]):\\n        if(action[i]>high[i]):\\n            action[i]= high[i]+0.1\\n        if(action[i]<low[i]):\\n            action[i]=low[i]+0.1\\n            \\\\    high = env.action_space.high\\n    global average_reward_variance\\n    print(average_reward_variance)\\n    if(np.abs(average_reward_variance)<0.1):\\n        print(\"Sampling randomly\")\\n        return env.action_space.sample()\\n'"
      ]
     },
     "execution_count": 15,
     "metadata": {},
     "output_type": "execute_result"
    }
   ],
   "source": [
    "'''      \n",
    "    #FIXING ACTION INCONSISTENCIES\n",
    "    low = env.action_space.low\n",
    "    high = env.action_space.high\n",
    "    \n",
    "    for i in range(action.shape[0]):\n",
    "        if(action[i]>high[i]):\n",
    "            action[i]= high[i]+0.1\n",
    "        if(action[i]<low[i]):\n",
    "            action[i]=low[i]+0.1\n",
    "            \\    high = env.action_space.high\n",
    "    global average_reward_variance\n",
    "    print(average_reward_variance)\n",
    "    if(np.abs(average_reward_variance)<0.1):\n",
    "        print(\"Sampling randomly\")\n",
    "        return env.action_space.sample()\n",
    "''' "
   ]
  },
  {
   "cell_type": "markdown",
   "metadata": {},
   "source": [
    "# Run Episodes\n",
    "## Setting up variables :D"
   ]
  },
  {
   "cell_type": "code",
   "execution_count": null,
   "metadata": {
    "collapsed": true
   },
   "outputs": [],
   "source": [
    "S = env.reset()\n",
    "#action_count=0\n",
    "episode_count=0\n",
    "save= True\n",
    "total_reward =0 \n",
    "total_reward_list=[]\n",
    "skip_count = 0\n",
    "skip_reward=0"
   ]
  },
  {
   "cell_type": "markdown",
   "metadata": {},
   "source": [
    "## Main loop "
   ]
  },
  {
   "cell_type": "code",
   "execution_count": null,
   "metadata": {
    "scrolled": true
   },
   "outputs": [
    {
     "name": "stdout",
     "output_type": "stream",
     "text": [
      "Creating window glfw\n",
      "-1.83071e-05 ===== -3.55857e-05 ==== -0.00286035551572\n",
      "-6.51878e-05 ===== -7.17872e-05 ==== -0.00282107028438\n",
      "-0.000127177 ===== -0.000125125 ==== -0.00278420458515\n",
      "-0.000203061 ===== -0.000202393 ==== -0.00275774306489\n",
      "-0.000300396 ===== -0.000303294 ==== -0.00273373573907\n",
      "-0.000419025 ===== -0.000422401 ==== -0.0027068822873\n",
      "-0.000553446 ===== -0.000558076 ==== -0.00268107065457\n",
      "-0.000702634 ===== -0.000706139 ==== -0.00265313272581\n",
      "-0.000862339 ===== -0.000865059 ==== -0.00262583430453\n",
      "-0.00103136 ===== -0.00103232 ==== -0.00259784449331\n",
      "-0.00120695 ===== -0.00818974 ==== -1.79732614682\n",
      "-0.135248 ===== -0.130465 ==== -0.230340624761\n",
      "-0.149121 ===== -0.146659 ==== 0.0142607280253\n",
      "-0.145504 ===== -0.144134 ==== 0.0604043354489\n",
      "-0.139216 ===== -0.139419 ==== 0.0604568733553\n",
      "-0.134341 ===== -0.134196 ==== 0.060334829121\n",
      "-0.12903 ===== -0.129109 ==== 0.0600174210717\n",
      "-0.123815 ===== -0.124016 ==== 0.0550577800904\n",
      "-0.119043 ===== -0.118972 ==== 0.0479496014972\n",
      "-0.114554 ===== -0.114546 ==== 0.0593080888302\n",
      "-0.109018 ===== -0.109243 ==== 0.0735090916093\n",
      "-0.102269 ===== -0.102011 ==== 0.0878592172156\n",
      "-0.0936117 ===== -0.0935914 ==== 0.106743734831\n",
      "-0.0833266 ===== -0.0835022 ==== 0.126557673344\n",
      "-0.0712205 ===== -0.0712556 ==== 0.153880775946\n",
      "-0.0562521 ===== -0.0562263 ==== 0.177763351698\n",
      "-0.0388223 ===== -0.0388925 ==== 0.198574252437\n",
      "-0.0193747 ===== -0.0182956 ==== 0.193042373121\n",
      "0.000851925 ===== 0.000574926 ==== 0.187875007715\n",
      "0.0193581 ===== 0.0178343 ==== 0.241193676966\n",
      "0.041875 ===== 0.041772 ==== 0.271340090603\n",
      "0.0688714 ===== 0.0681161 ==== 0.2854112979\n",
      "0.0966457 ===== 0.0980643 ==== 0.293013033313\n",
      "0.127568 ===== 0.126893 ==== 0.332878488656\n",
      "0.160499 ===== 0.159597 ==== 0.356366565479\n",
      "0.195519 ===== 0.196253 ==== 0.369337239297\n",
      "0.233807 ===== 0.231733 ==== 0.389753049262\n",
      "0.271229 ===== 0.267921 ==== 0.400077936399\n",
      "0.308209 ===== 0.311593 ==== 0.413661469968\n",
      "0.353649 ===== 0.350168 ==== 0.406936839215\n",
      "0.391406 ===== 0.395121 ==== 0.401466858757\n",
      "0.436199 ===== 0.432374 ==== 0.411278374279\n",
      "0.474318 ===== 0.47397 ==== 0.4182964457\n",
      "0.516725 ===== 0.51854 ==== 0.403831257744\n",
      "0.560024 ===== 0.558886 ==== 0.399350052571\n",
      "0 --total reward =230.536200435\n",
      "0 --average reward =5.04904012698\n",
      "saving models\n",
      "average reward 5.04904012698\n",
      "0.540989 ===== 0.542381 ==== -0.0811687233884\n",
      "0.541535 ===== 0.541479 ==== -0.0577813026696\n",
      "0.540333 ===== 0.54045 ==== -0.0672217715809\n",
      "0.538549 ===== 0.538924 ==== -0.072308691759\n",
      "0.536329 ===== 0.536006 ==== -0.0811199108511\n",
      "0.532546 ===== 0.53291 ==== -0.0608587412091\n",
      "0.529933 ===== 0.529216 ==== -0.060505493761\n",
      "0.525925 ===== 0.526892 ==== -0.0609664643214\n",
      "0.523268 ===== 0.522399 ==== -0.0549117141765\n",
      "0.518892 ===== 0.519698 ==== -0.0525344959936\n",
      "0.516126 ===== 0.515875 ==== -0.0716167872802\n",
      "0.510745 ===== 0.510503 ==== -0.0580510639529\n",
      "0.506164 ===== 0.540135 ==== -0.612049198043\n",
      "0.491266 ===== 0.469677 ==== 0.0338351222963\n",
      "0.472511 ===== 0.461929 ==== 0.170863847282\n",
      "0.476127 ===== 0.476571 ==== 0.186039369658\n"
     ]
    }
   ],
   "source": [
    "while(True):\n",
    "    \n",
    "    #renders environment \n",
    "    env.render()\n",
    "    \n",
    "    high = env.action_space.high\n",
    "    #Selects action according to stochastic policy\n",
    "    action = select_action(S%high[0])\n",
    "    #action_count+=1\n",
    "    \n",
    "    \n",
    "    #Takes action \n",
    "    #t1=time()\n",
    "    S1, reward, done, info = env.step(action)\n",
    "    #print(t1-time())\n",
    "    skip_reward += reward\n",
    "    skip_count += 1\n",
    "    \n",
    "    #Updates weights\n",
    "    #if(np.random.randint(10)%5==0):\n",
    "    if(True):\n",
    "        #t2=time()\n",
    "        update_weights(S , action, skip_reward, S1 , done, skip_count)\n",
    "        #print(t2-time())\n",
    "        skip_reward = 0\n",
    "        skip_count =0\n",
    "    \n",
    "    S = S1\n",
    "    total_reward +=reward\n",
    "    \n",
    "    if(done):\n",
    "        \n",
    "        #print('We are now at '+str(episode_count))\n",
    "        gc.collect()\n",
    "        print(str(episode_count)+' --total reward ='+ str(total_reward))\n",
    "        print(str(episode_count)+' --average reward ='+ str(average_reward))\n",
    "        total_reward_list.append(total_reward)\n",
    "        total_reward=0\n",
    "        \n",
    "        #Resets episode\n",
    "        S = env.reset()\n",
    "        #action_count=0\n",
    "        episode_count+=1\n",
    "        \n",
    "        \n",
    "        \n",
    "        if(episode_count%1==0):\n",
    "            \n",
    "            if(save):\n",
    "                print('saving models')\n",
    "                print('average reward '+ str(average_reward))\n",
    "                \n",
    "                policy_model_mean.save('policy_mean.h5')\n",
    "                policy_model_std.save('policy_std.h5')\n",
    "                value_model.save('value.h5')\n",
    "                pickle.dump(total_reward_list,open('totalz_hist','wb'))\n",
    "                \n",
    "\n",
    "                #Restarting keras session \n",
    "                K.clear_session()\n",
    "                sess = K.get_session()\n",
    "                policy_model_mean = load_model('policy_mean.h5')\n",
    "                policy_model_std = load_model('policy_std.h5')\n",
    "                value_model = load_model('value.h5')\n",
    "\n",
    "        \n",
    "        #Resets eligibility traces\n",
    "        global value_eligibility_traces, policy_eligibility_traces_mean, policy_eligibility_traces_std\n",
    "        policy_eligibility_traces_mean= [tf.zeros(shape = tensor.eval(session = sess).shape) for tensor in policy_model_mean.trainable_weights]\n",
    "        policy_eligibility_traces_std= [tf.zeros(shape = tensor.eval(session = sess).shape) for tensor in policy_model_std.trainable_weights]\n",
    "        value_eligibility_traces= [tf.zeros(shape = tensor.eval(session = sess).shape) for tensor in value_model.trainable_weights]\n",
    "    "
   ]
  }
 ],
 "metadata": {
  "kernelspec": {
   "display_name": "Python 3",
   "language": "python",
   "name": "python3"
  },
  "language_info": {
   "codemirror_mode": {
    "name": "ipython",
    "version": 3
   },
   "file_extension": ".py",
   "mimetype": "text/x-python",
   "name": "python",
   "nbconvert_exporter": "python",
   "pygments_lexer": "ipython3",
   "version": "3.6.0"
  }
 },
 "nbformat": 4,
 "nbformat_minor": 2
}
